{
 "cells": [
  {
   "cell_type": "code",
   "execution_count": 1,
   "metadata": {},
   "outputs": [],
   "source": [
    "import pandas as pd\n",
    "\n",
    "DATA_FOLDER = 'maestro-v3.0.0-midi'"
   ]
  },
  {
   "cell_type": "code",
   "execution_count": 2,
   "metadata": {},
   "outputs": [
    {
     "data": {
      "text/html": [
       "<div>\n",
       "<style scoped>\n",
       "    .dataframe tbody tr th:only-of-type {\n",
       "        vertical-align: middle;\n",
       "    }\n",
       "\n",
       "    .dataframe tbody tr th {\n",
       "        vertical-align: top;\n",
       "    }\n",
       "\n",
       "    .dataframe thead th {\n",
       "        text-align: right;\n",
       "    }\n",
       "</style>\n",
       "<table border=\"1\" class=\"dataframe\">\n",
       "  <thead>\n",
       "    <tr style=\"text-align: right;\">\n",
       "      <th></th>\n",
       "      <th>canonical_composer</th>\n",
       "      <th>canonical_title</th>\n",
       "      <th>split</th>\n",
       "      <th>year</th>\n",
       "      <th>midi_filename</th>\n",
       "      <th>audio_filename</th>\n",
       "      <th>duration</th>\n",
       "    </tr>\n",
       "  </thead>\n",
       "  <tbody>\n",
       "    <tr>\n",
       "      <th>0</th>\n",
       "      <td>Alban Berg</td>\n",
       "      <td>Sonata Op. 1</td>\n",
       "      <td>train</td>\n",
       "      <td>2018</td>\n",
       "      <td>2018/MIDI-Unprocessed_Chamber3_MID--AUDIO_10_R...</td>\n",
       "      <td>2018/MIDI-Unprocessed_Chamber3_MID--AUDIO_10_R...</td>\n",
       "      <td>698.661160</td>\n",
       "    </tr>\n",
       "    <tr>\n",
       "      <th>1</th>\n",
       "      <td>Alban Berg</td>\n",
       "      <td>Sonata Op. 1</td>\n",
       "      <td>train</td>\n",
       "      <td>2008</td>\n",
       "      <td>2008/MIDI-Unprocessed_03_R2_2008_01-03_ORIG_MI...</td>\n",
       "      <td>2008/MIDI-Unprocessed_03_R2_2008_01-03_ORIG_MI...</td>\n",
       "      <td>759.518471</td>\n",
       "    </tr>\n",
       "    <tr>\n",
       "      <th>2</th>\n",
       "      <td>Alban Berg</td>\n",
       "      <td>Sonata Op. 1</td>\n",
       "      <td>train</td>\n",
       "      <td>2017</td>\n",
       "      <td>2017/MIDI-Unprocessed_066_PIANO066_MID--AUDIO-...</td>\n",
       "      <td>2017/MIDI-Unprocessed_066_PIANO066_MID--AUDIO-...</td>\n",
       "      <td>464.649433</td>\n",
       "    </tr>\n",
       "    <tr>\n",
       "      <th>3</th>\n",
       "      <td>Alexander Scriabin</td>\n",
       "      <td>24 Preludes Op. 11, No. 13-24</td>\n",
       "      <td>train</td>\n",
       "      <td>2004</td>\n",
       "      <td>2004/MIDI-Unprocessed_XP_21_R1_2004_01_ORIG_MI...</td>\n",
       "      <td>2004/MIDI-Unprocessed_XP_21_R1_2004_01_ORIG_MI...</td>\n",
       "      <td>872.640588</td>\n",
       "    </tr>\n",
       "    <tr>\n",
       "      <th>4</th>\n",
       "      <td>Alexander Scriabin</td>\n",
       "      <td>3 Etudes, Op. 65</td>\n",
       "      <td>validation</td>\n",
       "      <td>2006</td>\n",
       "      <td>2006/MIDI-Unprocessed_17_R1_2006_01-06_ORIG_MI...</td>\n",
       "      <td>2006/MIDI-Unprocessed_17_R1_2006_01-06_ORIG_MI...</td>\n",
       "      <td>397.857508</td>\n",
       "    </tr>\n",
       "  </tbody>\n",
       "</table>\n",
       "</div>"
      ],
      "text/plain": [
       "   canonical_composer                canonical_title       split  year  \\\n",
       "0          Alban Berg                   Sonata Op. 1       train  2018   \n",
       "1          Alban Berg                   Sonata Op. 1       train  2008   \n",
       "2          Alban Berg                   Sonata Op. 1       train  2017   \n",
       "3  Alexander Scriabin  24 Preludes Op. 11, No. 13-24       train  2004   \n",
       "4  Alexander Scriabin               3 Etudes, Op. 65  validation  2006   \n",
       "\n",
       "                                       midi_filename  \\\n",
       "0  2018/MIDI-Unprocessed_Chamber3_MID--AUDIO_10_R...   \n",
       "1  2008/MIDI-Unprocessed_03_R2_2008_01-03_ORIG_MI...   \n",
       "2  2017/MIDI-Unprocessed_066_PIANO066_MID--AUDIO-...   \n",
       "3  2004/MIDI-Unprocessed_XP_21_R1_2004_01_ORIG_MI...   \n",
       "4  2006/MIDI-Unprocessed_17_R1_2006_01-06_ORIG_MI...   \n",
       "\n",
       "                                      audio_filename    duration  \n",
       "0  2018/MIDI-Unprocessed_Chamber3_MID--AUDIO_10_R...  698.661160  \n",
       "1  2008/MIDI-Unprocessed_03_R2_2008_01-03_ORIG_MI...  759.518471  \n",
       "2  2017/MIDI-Unprocessed_066_PIANO066_MID--AUDIO-...  464.649433  \n",
       "3  2004/MIDI-Unprocessed_XP_21_R1_2004_01_ORIG_MI...  872.640588  \n",
       "4  2006/MIDI-Unprocessed_17_R1_2006_01-06_ORIG_MI...  397.857508  "
      ]
     },
     "execution_count": 2,
     "metadata": {},
     "output_type": "execute_result"
    }
   ],
   "source": [
    "df = pd.read_csv(DATA_FOLDER + '/maestro-v3.0.0.csv')\n",
    "df.head()"
   ]
  },
  {
   "cell_type": "code",
   "execution_count": 3,
   "metadata": {},
   "outputs": [
    {
     "data": {
      "text/plain": [
       "canonical_composer\n",
       "Frédéric Chopin                                       201\n",
       "Franz Schubert                                        186\n",
       "Ludwig van Beethoven                                  146\n",
       "Johann Sebastian Bach                                 145\n",
       "Franz Liszt                                           131\n",
       "Sergei Rachmaninoff                                    59\n",
       "Robert Schumann                                        49\n",
       "Claude Debussy                                         45\n",
       "Joseph Haydn                                           40\n",
       "Wolfgang Amadeus Mozart                                38\n",
       "Alexander Scriabin                                     35\n",
       "Domenico Scarlatti                                     31\n",
       "Felix Mendelssohn                                      28\n",
       "Johannes Brahms                                        26\n",
       "Franz Schubert / Franz Liszt                           10\n",
       "Isaac Albéniz                                           7\n",
       "Muzio Clementi                                          6\n",
       "Pyotr Ilyich Tchaikovsky                                6\n",
       "Pyotr Ilyich Tchaikovsky / Mikhail Pletnev              6\n",
       "Modest Mussorgsky                                       6\n",
       "Nikolai Medtner                                         5\n",
       "George Frideric Handel                                  5\n",
       "César Franck                                            5\n",
       "Johann Sebastian Bach / Ferruccio Busoni                5\n",
       "Mily Balakirev                                          4\n",
       "Leoš Janáček                                            4\n",
       "Johann Sebastian Bach / Franz Liszt                     3\n",
       "Alban Berg                                              3\n",
       "Edvard Grieg                                            3\n",
       "Felix Mendelssohn / Sergei Rachmaninoff                 3\n",
       "Richard Wagner / Franz Liszt                            2\n",
       "Franz Liszt / Vladimir Horowitz                         2\n",
       "Johann Sebastian Bach / Egon Petri                      2\n",
       "Mikhail Glinka / Mily Balakirev                         2\n",
       "Pyotr Ilyich Tchaikovsky / Sergei Rachmaninoff          2\n",
       "Charles Gounod / Franz Liszt                            1\n",
       "Orlando Gibbons                                         1\n",
       "Percy Grainger                                          1\n",
       "Jean-Philippe Rameau                                    1\n",
       "Carl Maria von Weber                                    1\n",
       "Robert Schumann / Franz Liszt                           1\n",
       "Antonio Soler                                           1\n",
       "Sergei Rachmaninoff / György Cziffra                    1\n",
       "Sergei Rachmaninoff / Vyacheslav Gryaznov               1\n",
       "Nikolai Rimsky-Korsakov / Sergei Rachmaninoff           1\n",
       "Franz Liszt / Camille Saint-Saëns                       1\n",
       "Niccolò Paganini / Franz Liszt                          1\n",
       "Johann Christian Fischer / Wolfgang Amadeus Mozart      1\n",
       "Franz Schubert / Leopold Godowsky                       1\n",
       "Fritz Kreisler / Sergei Rachmaninoff                    1\n",
       "George Enescu                                           1\n",
       "Georges Bizet / Ferruccio Busoni                        1\n",
       "Georges Bizet / Moritz Moszkowski                       1\n",
       "Johann Strauss / Alfred Grünfeld                        1\n",
       "Johann Sebastian Bach / Myra Hess                       1\n",
       "Georges Bizet / Vladimir Horowitz                       1\n",
       "Giuseppe Verdi / Franz Liszt                            1\n",
       "Henry Purcell                                           1\n",
       "Isaac Albéniz / Leopold Godowsky                        1\n",
       "Johann Pachelbel                                        1\n",
       "Name: count, dtype: int64"
      ]
     },
     "execution_count": 3,
     "metadata": {},
     "output_type": "execute_result"
    }
   ],
   "source": [
    "# List all composers and their number of pieces\n",
    "df['canonical_composer'].value_counts()"
   ]
  },
  {
   "cell_type": "code",
   "execution_count": 4,
   "metadata": {},
   "outputs": [
    {
     "data": {
      "text/html": [
       "<div>\n",
       "<style scoped>\n",
       "    .dataframe tbody tr th:only-of-type {\n",
       "        vertical-align: middle;\n",
       "    }\n",
       "\n",
       "    .dataframe tbody tr th {\n",
       "        vertical-align: top;\n",
       "    }\n",
       "\n",
       "    .dataframe thead th {\n",
       "        text-align: right;\n",
       "    }\n",
       "</style>\n",
       "<table border=\"1\" class=\"dataframe\">\n",
       "  <thead>\n",
       "    <tr style=\"text-align: right;\">\n",
       "      <th></th>\n",
       "      <th>canonical_composer</th>\n",
       "      <th>canonical_title</th>\n",
       "      <th>split</th>\n",
       "      <th>year</th>\n",
       "      <th>midi_filename</th>\n",
       "      <th>audio_filename</th>\n",
       "      <th>duration</th>\n",
       "    </tr>\n",
       "  </thead>\n",
       "  <tbody>\n",
       "    <tr>\n",
       "      <th>1238</th>\n",
       "      <td>Wolfgang Amadeus Mozart</td>\n",
       "      <td>Fantasy in C Min</td>\n",
       "      <td>train</td>\n",
       "      <td>2006</td>\n",
       "      <td>2006/MIDI-Unprocessed_07_R1_2006_01-04_ORIG_MI...</td>\n",
       "      <td>2006/MIDI-Unprocessed_07_R1_2006_01-04_ORIG_MI...</td>\n",
       "      <td>691.770142</td>\n",
       "    </tr>\n",
       "    <tr>\n",
       "      <th>1239</th>\n",
       "      <td>Wolfgang Amadeus Mozart</td>\n",
       "      <td>Nine Variations, K. 264</td>\n",
       "      <td>train</td>\n",
       "      <td>2009</td>\n",
       "      <td>2009/MIDI-Unprocessed_04_R1_2009_01-03_ORIG_MI...</td>\n",
       "      <td>2009/MIDI-Unprocessed_04_R1_2009_01-03_ORIG_MI...</td>\n",
       "      <td>735.747128</td>\n",
       "    </tr>\n",
       "    <tr>\n",
       "      <th>1240</th>\n",
       "      <td>Wolfgang Amadeus Mozart</td>\n",
       "      <td>Nine variations on a minuet by Duport, K537</td>\n",
       "      <td>train</td>\n",
       "      <td>2018</td>\n",
       "      <td>2018/MIDI-Unprocessed_Chamber2_MID--AUDIO_09_R...</td>\n",
       "      <td>2018/MIDI-Unprocessed_Chamber2_MID--AUDIO_09_R...</td>\n",
       "      <td>581.409675</td>\n",
       "    </tr>\n",
       "    <tr>\n",
       "      <th>1241</th>\n",
       "      <td>Wolfgang Amadeus Mozart</td>\n",
       "      <td>Rondo in A Minor,  K. 511</td>\n",
       "      <td>test</td>\n",
       "      <td>2011</td>\n",
       "      <td>2011/MIDI-Unprocessed_05_R1_2011_MID--AUDIO_R1...</td>\n",
       "      <td>2011/MIDI-Unprocessed_05_R1_2011_MID--AUDIO_R1...</td>\n",
       "      <td>500.815471</td>\n",
       "    </tr>\n",
       "    <tr>\n",
       "      <th>1242</th>\n",
       "      <td>Wolfgang Amadeus Mozart</td>\n",
       "      <td>Sonata K. 457</td>\n",
       "      <td>train</td>\n",
       "      <td>2006</td>\n",
       "      <td>2006/MIDI-Unprocessed_24_R1_2006_01-05_ORIG_MI...</td>\n",
       "      <td>2006/MIDI-Unprocessed_24_R1_2006_01-05_ORIG_MI...</td>\n",
       "      <td>937.038326</td>\n",
       "    </tr>\n",
       "  </tbody>\n",
       "</table>\n",
       "</div>"
      ],
      "text/plain": [
       "           canonical_composer                              canonical_title  \\\n",
       "1238  Wolfgang Amadeus Mozart                             Fantasy in C Min   \n",
       "1239  Wolfgang Amadeus Mozart                      Nine Variations, K. 264   \n",
       "1240  Wolfgang Amadeus Mozart  Nine variations on a minuet by Duport, K537   \n",
       "1241  Wolfgang Amadeus Mozart                    Rondo in A Minor,  K. 511   \n",
       "1242  Wolfgang Amadeus Mozart                                Sonata K. 457   \n",
       "\n",
       "      split  year                                      midi_filename  \\\n",
       "1238  train  2006  2006/MIDI-Unprocessed_07_R1_2006_01-04_ORIG_MI...   \n",
       "1239  train  2009  2009/MIDI-Unprocessed_04_R1_2009_01-03_ORIG_MI...   \n",
       "1240  train  2018  2018/MIDI-Unprocessed_Chamber2_MID--AUDIO_09_R...   \n",
       "1241   test  2011  2011/MIDI-Unprocessed_05_R1_2011_MID--AUDIO_R1...   \n",
       "1242  train  2006  2006/MIDI-Unprocessed_24_R1_2006_01-05_ORIG_MI...   \n",
       "\n",
       "                                         audio_filename    duration  \n",
       "1238  2006/MIDI-Unprocessed_07_R1_2006_01-04_ORIG_MI...  691.770142  \n",
       "1239  2009/MIDI-Unprocessed_04_R1_2009_01-03_ORIG_MI...  735.747128  \n",
       "1240  2018/MIDI-Unprocessed_Chamber2_MID--AUDIO_09_R...  581.409675  \n",
       "1241  2011/MIDI-Unprocessed_05_R1_2011_MID--AUDIO_R1...  500.815471  \n",
       "1242  2006/MIDI-Unprocessed_24_R1_2006_01-05_ORIG_MI...  937.038326  "
      ]
     },
     "execution_count": 4,
     "metadata": {},
     "output_type": "execute_result"
    }
   ],
   "source": [
    "CHOOSEN_COMPOSER = 'Wolfgang Amadeus Mozart'\n",
    "\n",
    "df = df[df['canonical_composer'] == CHOOSEN_COMPOSER]\n",
    "\n",
    "df.head()"
   ]
  },
  {
   "cell_type": "code",
   "execution_count": 1,
   "metadata": {},
   "outputs": [
    {
     "data": {
      "text/plain": [
       "0"
      ]
     },
     "execution_count": 1,
     "metadata": {},
     "output_type": "execute_result"
    }
   ],
   "source": [
    "import os\n",
    "\n",
    "# rm all file in converted folder\n",
    "os.system('rm -rf convertedAudio/*.wav')"
   ]
  },
  {
   "cell_type": "code",
   "execution_count": 6,
   "metadata": {},
   "outputs": [
    {
     "name": "stdout",
     "output_type": "stream",
     "text": [
      "Converting file: 2006/MIDI-Unprocessed_07_R1_2006_01-04_ORIG_MID--AUDIO_07_R1_2006_02_Track02_wav.midi\n"
     ]
    },
    {
     "name": "stderr",
     "output_type": "stream",
     "text": [
      "fluidsynth: error: fluid_is_soundfont(): fopen() failed: 'File does not exist.'\n",
      "Parameter '/home/Yukiche/.fluidsynth/default_sound_font.sf2' not a SoundFont or MIDI file or error occurred identifying it.\n"
     ]
    },
    {
     "name": "stdout",
     "output_type": "stream",
     "text": [
      "FluidSynth runtime version 2.3.4\n",
      "Copyright (C) 2000-2023 Peter Hanappe and others.\n",
      "Distributed under the LGPL license.\n",
      "SoundFont(R) is a registered trademark of Creative Technology Ltd.\n",
      "\n",
      "Rendering audio to file 'convertedAudio/1238.wav'..\n",
      "Converting file: 2009/MIDI-Unprocessed_04_R1_2009_01-03_ORIG_MID--AUDIO_04_R1_2009_04_R1_2009_02_WAV.midi\n"
     ]
    },
    {
     "name": "stderr",
     "output_type": "stream",
     "text": [
      "fluidsynth: error: fluid_is_soundfont(): fopen() failed: 'File does not exist.'\n",
      "Parameter '/home/Yukiche/.fluidsynth/default_sound_font.sf2' not a SoundFont or MIDI file or error occurred identifying it.\n"
     ]
    },
    {
     "name": "stdout",
     "output_type": "stream",
     "text": [
      "FluidSynth runtime version 2.3.4\n",
      "Copyright (C) 2000-2023 Peter Hanappe and others.\n",
      "Distributed under the LGPL license.\n",
      "SoundFont(R) is a registered trademark of Creative Technology Ltd.\n",
      "\n",
      "Rendering audio to file 'convertedAudio/1239.wav'..\n",
      "Converting file: 2018/MIDI-Unprocessed_Chamber2_MID--AUDIO_09_R3_2018_wav--1.midi\n"
     ]
    },
    {
     "name": "stderr",
     "output_type": "stream",
     "text": [
      "fluidsynth: error: fluid_is_soundfont(): fopen() failed: 'File does not exist.'\n",
      "Parameter '/home/Yukiche/.fluidsynth/default_sound_font.sf2' not a SoundFont or MIDI file or error occurred identifying it.\n"
     ]
    },
    {
     "name": "stdout",
     "output_type": "stream",
     "text": [
      "FluidSynth runtime version 2.3.4\n",
      "Copyright (C) 2000-2023 Peter Hanappe and others.\n",
      "Distributed under the LGPL license.\n",
      "SoundFont(R) is a registered trademark of Creative Technology Ltd.\n",
      "\n",
      "Rendering audio to file 'convertedAudio/1240.wav'..\n",
      "Converting file: 2011/MIDI-Unprocessed_05_R1_2011_MID--AUDIO_R1-D2_12_Track12_wav.midi\n"
     ]
    },
    {
     "name": "stderr",
     "output_type": "stream",
     "text": [
      "fluidsynth: error: fluid_is_soundfont(): fopen() failed: 'File does not exist.'\n",
      "Parameter '/home/Yukiche/.fluidsynth/default_sound_font.sf2' not a SoundFont or MIDI file or error occurred identifying it.\n"
     ]
    },
    {
     "name": "stdout",
     "output_type": "stream",
     "text": [
      "FluidSynth runtime version 2.3.4\n",
      "Copyright (C) 2000-2023 Peter Hanappe and others.\n",
      "Distributed under the LGPL license.\n",
      "SoundFont(R) is a registered trademark of Creative Technology Ltd.\n",
      "\n",
      "Rendering audio to file 'convertedAudio/1241.wav'..\n",
      "Converting file: 2006/MIDI-Unprocessed_24_R1_2006_01-05_ORIG_MID--AUDIO_24_R1_2006_01_Track01_wav.midi\n"
     ]
    },
    {
     "name": "stderr",
     "output_type": "stream",
     "text": [
      "fluidsynth: error: fluid_is_soundfont(): fopen() failed: 'File does not exist.'\n",
      "Parameter '/home/Yukiche/.fluidsynth/default_sound_font.sf2' not a SoundFont or MIDI file or error occurred identifying it.\n"
     ]
    },
    {
     "name": "stdout",
     "output_type": "stream",
     "text": [
      "FluidSynth runtime version 2.3.4\n",
      "Copyright (C) 2000-2023 Peter Hanappe and others.\n",
      "Distributed under the LGPL license.\n",
      "SoundFont(R) is a registered trademark of Creative Technology Ltd.\n",
      "\n",
      "Rendering audio to file 'convertedAudio/1242.wav'..\n",
      "Converting file: 2015/MIDI-Unprocessed_R1_D1-1-8_mid--AUDIO-from_mp3_01_R1_2015_wav--3.midi\n"
     ]
    },
    {
     "name": "stderr",
     "output_type": "stream",
     "text": [
      "fluidsynth: error: fluid_is_soundfont(): fopen() failed: 'File does not exist.'\n",
      "Parameter '/home/Yukiche/.fluidsynth/default_sound_font.sf2' not a SoundFont or MIDI file or error occurred identifying it.\n"
     ]
    },
    {
     "name": "stdout",
     "output_type": "stream",
     "text": [
      "FluidSynth runtime version 2.3.4\n",
      "Copyright (C) 2000-2023 Peter Hanappe and others.\n",
      "Distributed under the LGPL license.\n",
      "SoundFont(R) is a registered trademark of Creative Technology Ltd.\n",
      "\n",
      "Rendering audio to file 'convertedAudio/1243.wav'..\n",
      "Converting file: 2008/MIDI-Unprocessed_08_R1_2008_01-05_ORIG_MID--AUDIO_08_R1_2008_wav--2.midi\n"
     ]
    },
    {
     "name": "stderr",
     "output_type": "stream",
     "text": [
      "fluidsynth: error: fluid_is_soundfont(): fopen() failed: 'File does not exist.'\n",
      "Parameter '/home/Yukiche/.fluidsynth/default_sound_font.sf2' not a SoundFont or MIDI file or error occurred identifying it.\n"
     ]
    },
    {
     "name": "stdout",
     "output_type": "stream",
     "text": [
      "FluidSynth runtime version 2.3.4\n",
      "Copyright (C) 2000-2023 Peter Hanappe and others.\n",
      "Distributed under the LGPL license.\n",
      "SoundFont(R) is a registered trademark of Creative Technology Ltd.\n",
      "\n",
      "Rendering audio to file 'convertedAudio/1244.wav'..\n",
      "Converting file: 2011/MIDI-Unprocessed_02_R1_2011_MID--AUDIO_R1-D1_09_Track09_wav.midi\n"
     ]
    },
    {
     "name": "stderr",
     "output_type": "stream",
     "text": [
      "fluidsynth: error: fluid_is_soundfont(): fopen() failed: 'File does not exist.'\n",
      "Parameter '/home/Yukiche/.fluidsynth/default_sound_font.sf2' not a SoundFont or MIDI file or error occurred identifying it.\n"
     ]
    },
    {
     "name": "stdout",
     "output_type": "stream",
     "text": [
      "FluidSynth runtime version 2.3.4\n",
      "Copyright (C) 2000-2023 Peter Hanappe and others.\n",
      "Distributed under the LGPL license.\n",
      "SoundFont(R) is a registered trademark of Creative Technology Ltd.\n",
      "\n",
      "Rendering audio to file 'convertedAudio/1245.wav'..\n",
      "Converting file: 2013/ORIG-MIDI_03_7_10_13_Group_MID--AUDIO_17_R3_2013_wav--1.midi\n"
     ]
    },
    {
     "name": "stderr",
     "output_type": "stream",
     "text": [
      "fluidsynth: error: fluid_is_soundfont(): fopen() failed: 'File does not exist.'\n",
      "Parameter '/home/Yukiche/.fluidsynth/default_sound_font.sf2' not a SoundFont or MIDI file or error occurred identifying it.\n"
     ]
    },
    {
     "name": "stdout",
     "output_type": "stream",
     "text": [
      "FluidSynth runtime version 2.3.4\n",
      "Copyright (C) 2000-2023 Peter Hanappe and others.\n",
      "Distributed under the LGPL license.\n",
      "SoundFont(R) is a registered trademark of Creative Technology Ltd.\n",
      "\n",
      "Rendering audio to file 'convertedAudio/1246.wav'..\n",
      "Converting file: 2017/MIDI-Unprocessed_052_PIANO052_MID--AUDIO-split_07-06-17_Piano-e_3-03_wav--3.midi\n"
     ]
    },
    {
     "name": "stderr",
     "output_type": "stream",
     "text": [
      "fluidsynth: error: fluid_is_soundfont(): fopen() failed: 'File does not exist.'\n",
      "Parameter '/home/Yukiche/.fluidsynth/default_sound_font.sf2' not a SoundFont or MIDI file or error occurred identifying it.\n"
     ]
    },
    {
     "name": "stdout",
     "output_type": "stream",
     "text": [
      "FluidSynth runtime version 2.3.4\n",
      "Copyright (C) 2000-2023 Peter Hanappe and others.\n",
      "Distributed under the LGPL license.\n",
      "SoundFont(R) is a registered trademark of Creative Technology Ltd.\n",
      "\n",
      "Rendering audio to file 'convertedAudio/1247.wav'..\n",
      "Converting file: 2013/ORIG-MIDI_02_7_7_13_Group__MID--AUDIO_18_R1_2013_wav--3.midi\n"
     ]
    },
    {
     "name": "stderr",
     "output_type": "stream",
     "text": [
      "fluidsynth: error: fluid_is_soundfont(): fopen() failed: 'File does not exist.'\n",
      "Parameter '/home/Yukiche/.fluidsynth/default_sound_font.sf2' not a SoundFont or MIDI file or error occurred identifying it.\n"
     ]
    },
    {
     "name": "stdout",
     "output_type": "stream",
     "text": [
      "FluidSynth runtime version 2.3.4\n",
      "Copyright (C) 2000-2023 Peter Hanappe and others.\n",
      "Distributed under the LGPL license.\n",
      "SoundFont(R) is a registered trademark of Creative Technology Ltd.\n",
      "\n",
      "Rendering audio to file 'convertedAudio/1248.wav'..\n",
      "Converting file: 2009/MIDI-Unprocessed_08_R1_2009_01-04_ORIG_MID--AUDIO_08_R1_2009_08_R1_2009_01_WAV.midi\n"
     ]
    },
    {
     "name": "stderr",
     "output_type": "stream",
     "text": [
      "fluidsynth: error: fluid_is_soundfont(): fopen() failed: 'File does not exist.'\n",
      "Parameter '/home/Yukiche/.fluidsynth/default_sound_font.sf2' not a SoundFont or MIDI file or error occurred identifying it.\n"
     ]
    },
    {
     "name": "stdout",
     "output_type": "stream",
     "text": [
      "FluidSynth runtime version 2.3.4\n",
      "Copyright (C) 2000-2023 Peter Hanappe and others.\n",
      "Distributed under the LGPL license.\n",
      "SoundFont(R) is a registered trademark of Creative Technology Ltd.\n",
      "\n",
      "Rendering audio to file 'convertedAudio/1249.wav'..\n",
      "Converting file: 2015/MIDI-Unprocessed_R1_D2-13-20_mid--AUDIO-from_mp3_20_R1_2015_wav--2.midi\n"
     ]
    },
    {
     "name": "stderr",
     "output_type": "stream",
     "text": [
      "fluidsynth: error: fluid_is_soundfont(): fopen() failed: 'File does not exist.'\n",
      "Parameter '/home/Yukiche/.fluidsynth/default_sound_font.sf2' not a SoundFont or MIDI file or error occurred identifying it.\n"
     ]
    },
    {
     "name": "stdout",
     "output_type": "stream",
     "text": [
      "FluidSynth runtime version 2.3.4\n",
      "Copyright (C) 2000-2023 Peter Hanappe and others.\n",
      "Distributed under the LGPL license.\n",
      "SoundFont(R) is a registered trademark of Creative Technology Ltd.\n",
      "\n",
      "Rendering audio to file 'convertedAudio/1250.wav'..\n",
      "Converting file: 2015/MIDI-Unprocessed_R1_D2-13-20_mid--AUDIO-from_mp3_18_R1_2015_wav--3.midi\n"
     ]
    },
    {
     "name": "stderr",
     "output_type": "stream",
     "text": [
      "fluidsynth: error: fluid_is_soundfont(): fopen() failed: 'File does not exist.'\n",
      "Parameter '/home/Yukiche/.fluidsynth/default_sound_font.sf2' not a SoundFont or MIDI file or error occurred identifying it.\n"
     ]
    },
    {
     "name": "stdout",
     "output_type": "stream",
     "text": [
      "FluidSynth runtime version 2.3.4\n",
      "Copyright (C) 2000-2023 Peter Hanappe and others.\n",
      "Distributed under the LGPL license.\n",
      "SoundFont(R) is a registered trademark of Creative Technology Ltd.\n",
      "\n",
      "Rendering audio to file 'convertedAudio/1251.wav'..\n",
      "Converting file: 2008/MIDI-Unprocessed_02_R1_2008_01-05_ORIG_MID--AUDIO_02_R1_2008_wav--2.midi\n"
     ]
    },
    {
     "name": "stderr",
     "output_type": "stream",
     "text": [
      "fluidsynth: error: fluid_is_soundfont(): fopen() failed: 'File does not exist.'\n",
      "Parameter '/home/Yukiche/.fluidsynth/default_sound_font.sf2' not a SoundFont or MIDI file or error occurred identifying it.\n"
     ]
    },
    {
     "name": "stdout",
     "output_type": "stream",
     "text": [
      "FluidSynth runtime version 2.3.4\n",
      "Copyright (C) 2000-2023 Peter Hanappe and others.\n",
      "Distributed under the LGPL license.\n",
      "SoundFont(R) is a registered trademark of Creative Technology Ltd.\n",
      "\n",
      "Rendering audio to file 'convertedAudio/1252.wav'..\n",
      "Converting file: 2018/MIDI-Unprocessed_Recital13-15_MID--AUDIO_13_R1_2018_wav--1.midi\n"
     ]
    },
    {
     "name": "stderr",
     "output_type": "stream",
     "text": [
      "fluidsynth: error: fluid_is_soundfont(): fopen() failed: 'File does not exist.'\n",
      "Parameter '/home/Yukiche/.fluidsynth/default_sound_font.sf2' not a SoundFont or MIDI file or error occurred identifying it.\n"
     ]
    },
    {
     "name": "stdout",
     "output_type": "stream",
     "text": [
      "FluidSynth runtime version 2.3.4\n",
      "Copyright (C) 2000-2023 Peter Hanappe and others.\n",
      "Distributed under the LGPL license.\n",
      "SoundFont(R) is a registered trademark of Creative Technology Ltd.\n",
      "\n",
      "Rendering audio to file 'convertedAudio/1253.wav'..\n",
      "Converting file: 2013/ORIG-MIDI_01_7_7_13_Group__MID--AUDIO_11_R1_2013_wav--2.midi\n"
     ]
    },
    {
     "name": "stderr",
     "output_type": "stream",
     "text": [
      "fluidsynth: error: fluid_is_soundfont(): fopen() failed: 'File does not exist.'\n",
      "Parameter '/home/Yukiche/.fluidsynth/default_sound_font.sf2' not a SoundFont or MIDI file or error occurred identifying it.\n"
     ]
    },
    {
     "name": "stdout",
     "output_type": "stream",
     "text": [
      "FluidSynth runtime version 2.3.4\n",
      "Copyright (C) 2000-2023 Peter Hanappe and others.\n",
      "Distributed under the LGPL license.\n",
      "SoundFont(R) is a registered trademark of Creative Technology Ltd.\n",
      "\n",
      "Rendering audio to file 'convertedAudio/1254.wav'..\n",
      "Converting file: 2018/MIDI-Unprocessed_Recital12_MID--AUDIO_12_R1_2018_wav--1.midi\n"
     ]
    },
    {
     "name": "stderr",
     "output_type": "stream",
     "text": [
      "fluidsynth: error: fluid_is_soundfont(): fopen() failed: 'File does not exist.'\n",
      "Parameter '/home/Yukiche/.fluidsynth/default_sound_font.sf2' not a SoundFont or MIDI file or error occurred identifying it.\n"
     ]
    },
    {
     "name": "stdout",
     "output_type": "stream",
     "text": [
      "FluidSynth runtime version 2.3.4\n",
      "Copyright (C) 2000-2023 Peter Hanappe and others.\n",
      "Distributed under the LGPL license.\n",
      "SoundFont(R) is a registered trademark of Creative Technology Ltd.\n",
      "\n",
      "Rendering audio to file 'convertedAudio/1255.wav'..\n",
      "Converting file: 2008/MIDI-Unprocessed_14_R1_2008_01-05_ORIG_MID--AUDIO_14_R1_2008_wav--2.midi\n"
     ]
    },
    {
     "name": "stderr",
     "output_type": "stream",
     "text": [
      "fluidsynth: error: fluid_is_soundfont(): fopen() failed: 'File does not exist.'\n",
      "Parameter '/home/Yukiche/.fluidsynth/default_sound_font.sf2' not a SoundFont or MIDI file or error occurred identifying it.\n"
     ]
    },
    {
     "name": "stdout",
     "output_type": "stream",
     "text": [
      "FluidSynth runtime version 2.3.4\n",
      "Copyright (C) 2000-2023 Peter Hanappe and others.\n",
      "Distributed under the LGPL license.\n",
      "SoundFont(R) is a registered trademark of Creative Technology Ltd.\n",
      "\n",
      "Rendering audio to file 'convertedAudio/1256.wav'..\n",
      "Converting file: 2008/MIDI-Unprocessed_07_R3_2008_01-05_ORIG_MID--AUDIO_07_R3_2008_wav--1.midi\n"
     ]
    },
    {
     "name": "stderr",
     "output_type": "stream",
     "text": [
      "fluidsynth: error: fluid_is_soundfont(): fopen() failed: 'File does not exist.'\n",
      "Parameter '/home/Yukiche/.fluidsynth/default_sound_font.sf2' not a SoundFont or MIDI file or error occurred identifying it.\n"
     ]
    },
    {
     "name": "stdout",
     "output_type": "stream",
     "text": [
      "FluidSynth runtime version 2.3.4\n",
      "Copyright (C) 2000-2023 Peter Hanappe and others.\n",
      "Distributed under the LGPL license.\n",
      "SoundFont(R) is a registered trademark of Creative Technology Ltd.\n",
      "\n",
      "Rendering audio to file 'convertedAudio/1257.wav'..\n",
      "Converting file: 2011/MIDI-Unprocessed_03_R1_2011_MID--AUDIO_R1-D1_16_Track16_wav.midi\n"
     ]
    },
    {
     "name": "stderr",
     "output_type": "stream",
     "text": [
      "fluidsynth: error: fluid_is_soundfont(): fopen() failed: 'File does not exist.'\n",
      "Parameter '/home/Yukiche/.fluidsynth/default_sound_font.sf2' not a SoundFont or MIDI file or error occurred identifying it.\n"
     ]
    },
    {
     "name": "stdout",
     "output_type": "stream",
     "text": [
      "FluidSynth runtime version 2.3.4\n",
      "Copyright (C) 2000-2023 Peter Hanappe and others.\n",
      "Distributed under the LGPL license.\n",
      "SoundFont(R) is a registered trademark of Creative Technology Ltd.\n",
      "\n",
      "Rendering audio to file 'convertedAudio/1258.wav'..\n",
      "Converting file: 2009/MIDI-Unprocessed_14_R1_2009_06-08_ORIG_MID--AUDIO_14_R1_2009_14_R1_2009_06_WAV.midi\n"
     ]
    },
    {
     "name": "stderr",
     "output_type": "stream",
     "text": [
      "fluidsynth: error: fluid_is_soundfont(): fopen() failed: 'File does not exist.'\n",
      "Parameter '/home/Yukiche/.fluidsynth/default_sound_font.sf2' not a SoundFont or MIDI file or error occurred identifying it.\n"
     ]
    },
    {
     "name": "stdout",
     "output_type": "stream",
     "text": [
      "FluidSynth runtime version 2.3.4\n",
      "Copyright (C) 2000-2023 Peter Hanappe and others.\n",
      "Distributed under the LGPL license.\n",
      "SoundFont(R) is a registered trademark of Creative Technology Ltd.\n",
      "\n",
      "Rendering audio to file 'convertedAudio/1259.wav'..\n",
      "Converting file: 2014/MIDI-UNPROCESSED_09-10_R1_2014_MID--AUDIO_09_R1_2014_wav--1.midi\n"
     ]
    },
    {
     "name": "stderr",
     "output_type": "stream",
     "text": [
      "fluidsynth: error: fluid_is_soundfont(): fopen() failed: 'File does not exist.'\n",
      "Parameter '/home/Yukiche/.fluidsynth/default_sound_font.sf2' not a SoundFont or MIDI file or error occurred identifying it.\n"
     ]
    },
    {
     "name": "stdout",
     "output_type": "stream",
     "text": [
      "FluidSynth runtime version 2.3.4\n",
      "Copyright (C) 2000-2023 Peter Hanappe and others.\n",
      "Distributed under the LGPL license.\n",
      "SoundFont(R) is a registered trademark of Creative Technology Ltd.\n",
      "\n",
      "Rendering audio to file 'convertedAudio/1260.wav'..\n",
      "Converting file: 2013/ORIG-MIDI_01_7_7_13_Group__MID--AUDIO_12_R1_2013_wav--2.midi\n"
     ]
    },
    {
     "name": "stderr",
     "output_type": "stream",
     "text": [
      "fluidsynth: error: fluid_is_soundfont(): fopen() failed: 'File does not exist.'\n",
      "Parameter '/home/Yukiche/.fluidsynth/default_sound_font.sf2' not a SoundFont or MIDI file or error occurred identifying it.\n"
     ]
    },
    {
     "name": "stdout",
     "output_type": "stream",
     "text": [
      "FluidSynth runtime version 2.3.4\n",
      "Copyright (C) 2000-2023 Peter Hanappe and others.\n",
      "Distributed under the LGPL license.\n",
      "SoundFont(R) is a registered trademark of Creative Technology Ltd.\n",
      "\n",
      "Rendering audio to file 'convertedAudio/1261.wav'..\n",
      "Converting file: 2013/ORIG-MIDI_01_7_7_13_Group__MID--AUDIO_12_R1_2013_wav--3.midi\n"
     ]
    },
    {
     "name": "stderr",
     "output_type": "stream",
     "text": [
      "fluidsynth: error: fluid_is_soundfont(): fopen() failed: 'File does not exist.'\n",
      "Parameter '/home/Yukiche/.fluidsynth/default_sound_font.sf2' not a SoundFont or MIDI file or error occurred identifying it.\n"
     ]
    },
    {
     "name": "stdout",
     "output_type": "stream",
     "text": [
      "FluidSynth runtime version 2.3.4\n",
      "Copyright (C) 2000-2023 Peter Hanappe and others.\n",
      "Distributed under the LGPL license.\n",
      "SoundFont(R) is a registered trademark of Creative Technology Ltd.\n",
      "\n",
      "Rendering audio to file 'convertedAudio/1262.wav'..\n",
      "Converting file: 2009/MIDI-Unprocessed_05_R1_2009_01-02_ORIG_MID--AUDIO_05_R1_2009_05_R1_2009_01_WAV.midi\n"
     ]
    },
    {
     "name": "stderr",
     "output_type": "stream",
     "text": [
      "fluidsynth: error: fluid_is_soundfont(): fopen() failed: 'File does not exist.'\n",
      "Parameter '/home/Yukiche/.fluidsynth/default_sound_font.sf2' not a SoundFont or MIDI file or error occurred identifying it.\n"
     ]
    },
    {
     "name": "stdout",
     "output_type": "stream",
     "text": [
      "FluidSynth runtime version 2.3.4\n",
      "Copyright (C) 2000-2023 Peter Hanappe and others.\n",
      "Distributed under the LGPL license.\n",
      "SoundFont(R) is a registered trademark of Creative Technology Ltd.\n",
      "\n",
      "Rendering audio to file 'convertedAudio/1263.wav'..\n",
      "Converting file: 2011/MIDI-Unprocessed_07_R1_2011_MID--AUDIO_R1-D3_04_Track04_wav.midi\n"
     ]
    },
    {
     "name": "stderr",
     "output_type": "stream",
     "text": [
      "fluidsynth: error: fluid_is_soundfont(): fopen() failed: 'File does not exist.'\n",
      "Parameter '/home/Yukiche/.fluidsynth/default_sound_font.sf2' not a SoundFont or MIDI file or error occurred identifying it.\n"
     ]
    },
    {
     "name": "stdout",
     "output_type": "stream",
     "text": [
      "FluidSynth runtime version 2.3.4\n",
      "Copyright (C) 2000-2023 Peter Hanappe and others.\n",
      "Distributed under the LGPL license.\n",
      "SoundFont(R) is a registered trademark of Creative Technology Ltd.\n",
      "\n",
      "Rendering audio to file 'convertedAudio/1264.wav'..\n",
      "Converting file: 2006/MIDI-Unprocessed_16_R1_2006_01-04_ORIG_MID--AUDIO_16_R1_2006_01_Track01_wav.midi\n"
     ]
    },
    {
     "name": "stderr",
     "output_type": "stream",
     "text": [
      "fluidsynth: error: fluid_is_soundfont(): fopen() failed: 'File does not exist.'\n",
      "Parameter '/home/Yukiche/.fluidsynth/default_sound_font.sf2' not a SoundFont or MIDI file or error occurred identifying it.\n"
     ]
    },
    {
     "name": "stdout",
     "output_type": "stream",
     "text": [
      "FluidSynth runtime version 2.3.4\n",
      "Copyright (C) 2000-2023 Peter Hanappe and others.\n",
      "Distributed under the LGPL license.\n",
      "SoundFont(R) is a registered trademark of Creative Technology Ltd.\n",
      "\n",
      "Rendering audio to file 'convertedAudio/1265.wav'..\n",
      "Converting file: 2006/MIDI-Unprocessed_06_R1_2006_01-04_ORIG_MID--AUDIO_06_R1_2006_01_Track01_wav.midi\n"
     ]
    },
    {
     "name": "stderr",
     "output_type": "stream",
     "text": [
      "fluidsynth: error: fluid_is_soundfont(): fopen() failed: 'File does not exist.'\n",
      "Parameter '/home/Yukiche/.fluidsynth/default_sound_font.sf2' not a SoundFont or MIDI file or error occurred identifying it.\n"
     ]
    },
    {
     "name": "stdout",
     "output_type": "stream",
     "text": [
      "FluidSynth runtime version 2.3.4\n",
      "Copyright (C) 2000-2023 Peter Hanappe and others.\n",
      "Distributed under the LGPL license.\n",
      "SoundFont(R) is a registered trademark of Creative Technology Ltd.\n",
      "\n",
      "Rendering audio to file 'convertedAudio/1266.wav'..\n",
      "Converting file: 2015/MIDI-Unprocessed_R1_D1-9-12_mid--AUDIO-from_mp3_11_R1_2015_wav--1.midi\n"
     ]
    },
    {
     "name": "stderr",
     "output_type": "stream",
     "text": [
      "fluidsynth: error: fluid_is_soundfont(): fopen() failed: 'File does not exist.'\n",
      "Parameter '/home/Yukiche/.fluidsynth/default_sound_font.sf2' not a SoundFont or MIDI file or error occurred identifying it.\n"
     ]
    },
    {
     "name": "stdout",
     "output_type": "stream",
     "text": [
      "FluidSynth runtime version 2.3.4\n",
      "Copyright (C) 2000-2023 Peter Hanappe and others.\n",
      "Distributed under the LGPL license.\n",
      "SoundFont(R) is a registered trademark of Creative Technology Ltd.\n",
      "\n",
      "Rendering audio to file 'convertedAudio/1267.wav'..\n",
      "Converting file: 2015/MIDI-Unprocessed_R1_D1-9-12_mid--AUDIO-from_mp3_12_R1_2015_wav--2.midi\n"
     ]
    },
    {
     "name": "stderr",
     "output_type": "stream",
     "text": [
      "fluidsynth: error: fluid_is_soundfont(): fopen() failed: 'File does not exist.'\n",
      "Parameter '/home/Yukiche/.fluidsynth/default_sound_font.sf2' not a SoundFont or MIDI file or error occurred identifying it.\n"
     ]
    },
    {
     "name": "stdout",
     "output_type": "stream",
     "text": [
      "FluidSynth runtime version 2.3.4\n",
      "Copyright (C) 2000-2023 Peter Hanappe and others.\n",
      "Distributed under the LGPL license.\n",
      "SoundFont(R) is a registered trademark of Creative Technology Ltd.\n",
      "\n",
      "Rendering audio to file 'convertedAudio/1268.wav'..\n",
      "Converting file: 2013/ORIG-MIDI_03_7_6_13_Group__MID--AUDIO_09_R1_2013_wav--3.midi\n"
     ]
    },
    {
     "name": "stderr",
     "output_type": "stream",
     "text": [
      "fluidsynth: error: fluid_is_soundfont(): fopen() failed: 'File does not exist.'\n",
      "Parameter '/home/Yukiche/.fluidsynth/default_sound_font.sf2' not a SoundFont or MIDI file or error occurred identifying it.\n"
     ]
    },
    {
     "name": "stdout",
     "output_type": "stream",
     "text": [
      "FluidSynth runtime version 2.3.4\n",
      "Copyright (C) 2000-2023 Peter Hanappe and others.\n",
      "Distributed under the LGPL license.\n",
      "SoundFont(R) is a registered trademark of Creative Technology Ltd.\n",
      "\n",
      "Rendering audio to file 'convertedAudio/1269.wav'..\n",
      "Converting file: 2004/MIDI-Unprocessed_XP_14_R1_2004_04_ORIG_MID--AUDIO_14_R1_2004_04_Track04_wav.midi\n"
     ]
    },
    {
     "name": "stderr",
     "output_type": "stream",
     "text": [
      "fluidsynth: error: fluid_is_soundfont(): fopen() failed: 'File does not exist.'\n",
      "Parameter '/home/Yukiche/.fluidsynth/default_sound_font.sf2' not a SoundFont or MIDI file or error occurred identifying it.\n"
     ]
    },
    {
     "name": "stdout",
     "output_type": "stream",
     "text": [
      "FluidSynth runtime version 2.3.4\n",
      "Copyright (C) 2000-2023 Peter Hanappe and others.\n",
      "Distributed under the LGPL license.\n",
      "SoundFont(R) is a registered trademark of Creative Technology Ltd.\n",
      "\n",
      "Rendering audio to file 'convertedAudio/1270.wav'..\n",
      "Converting file: 2004/MIDI-Unprocessed_XP_14_R1_2004_04_ORIG_MID--AUDIO_14_R1_2004_05_Track05_wav.midi\n"
     ]
    },
    {
     "name": "stderr",
     "output_type": "stream",
     "text": [
      "fluidsynth: error: fluid_is_soundfont(): fopen() failed: 'File does not exist.'\n",
      "Parameter '/home/Yukiche/.fluidsynth/default_sound_font.sf2' not a SoundFont or MIDI file or error occurred identifying it.\n"
     ]
    },
    {
     "name": "stdout",
     "output_type": "stream",
     "text": [
      "FluidSynth runtime version 2.3.4\n",
      "Copyright (C) 2000-2023 Peter Hanappe and others.\n",
      "Distributed under the LGPL license.\n",
      "SoundFont(R) is a registered trademark of Creative Technology Ltd.\n",
      "\n",
      "Rendering audio to file 'convertedAudio/1271.wav'..\n",
      "Converting file: 2004/MIDI-Unprocessed_XP_14_R1_2004_04_ORIG_MID--AUDIO_14_R1_2004_06_Track06_wav.midi\n"
     ]
    },
    {
     "name": "stderr",
     "output_type": "stream",
     "text": [
      "fluidsynth: error: fluid_is_soundfont(): fopen() failed: 'File does not exist.'\n",
      "Parameter '/home/Yukiche/.fluidsynth/default_sound_font.sf2' not a SoundFont or MIDI file or error occurred identifying it.\n"
     ]
    },
    {
     "name": "stdout",
     "output_type": "stream",
     "text": [
      "FluidSynth runtime version 2.3.4\n",
      "Copyright (C) 2000-2023 Peter Hanappe and others.\n",
      "Distributed under the LGPL license.\n",
      "SoundFont(R) is a registered trademark of Creative Technology Ltd.\n",
      "\n",
      "Rendering audio to file 'convertedAudio/1272.wav'..\n",
      "Converting file: 2004/MIDI-Unprocessed_SMF_12_01_2004_01-05_ORIG_MID--AUDIO_12_R1_2004_03_Track03_wav--1.midi\n"
     ]
    },
    {
     "name": "stderr",
     "output_type": "stream",
     "text": [
      "fluidsynth: error: fluid_is_soundfont(): fopen() failed: 'File does not exist.'\n",
      "Parameter '/home/Yukiche/.fluidsynth/default_sound_font.sf2' not a SoundFont or MIDI file or error occurred identifying it.\n"
     ]
    },
    {
     "name": "stdout",
     "output_type": "stream",
     "text": [
      "FluidSynth runtime version 2.3.4\n",
      "Copyright (C) 2000-2023 Peter Hanappe and others.\n",
      "Distributed under the LGPL license.\n",
      "SoundFont(R) is a registered trademark of Creative Technology Ltd.\n",
      "\n",
      "Rendering audio to file 'convertedAudio/1273.wav'..\n",
      "Converting file: 2018/MIDI-Unprocessed_Recital17-19_MID--AUDIO_17_R1_2018_wav--3.midi\n"
     ]
    },
    {
     "name": "stderr",
     "output_type": "stream",
     "text": [
      "fluidsynth: error: fluid_is_soundfont(): fopen() failed: 'File does not exist.'\n",
      "Parameter '/home/Yukiche/.fluidsynth/default_sound_font.sf2' not a SoundFont or MIDI file or error occurred identifying it.\n"
     ]
    },
    {
     "name": "stdout",
     "output_type": "stream",
     "text": [
      "FluidSynth runtime version 2.3.4\n",
      "Copyright (C) 2000-2023 Peter Hanappe and others.\n",
      "Distributed under the LGPL license.\n",
      "SoundFont(R) is a registered trademark of Creative Technology Ltd.\n",
      "\n",
      "Rendering audio to file 'convertedAudio/1274.wav'..\n",
      "Converting file: 2004/MIDI-Unprocessed_XP_04_R1_2004_01-02_ORIG_MID--AUDIO_04_R1_2004_02_Track02_wav.midi\n"
     ]
    },
    {
     "name": "stderr",
     "output_type": "stream",
     "text": [
      "fluidsynth: error: fluid_is_soundfont(): fopen() failed: 'File does not exist.'\n",
      "Parameter '/home/Yukiche/.fluidsynth/default_sound_font.sf2' not a SoundFont or MIDI file or error occurred identifying it.\n"
     ]
    },
    {
     "name": "stdout",
     "output_type": "stream",
     "text": [
      "FluidSynth runtime version 2.3.4\n",
      "Copyright (C) 2000-2023 Peter Hanappe and others.\n",
      "Distributed under the LGPL license.\n",
      "SoundFont(R) is a registered trademark of Creative Technology Ltd.\n",
      "\n",
      "Rendering audio to file 'convertedAudio/1275.wav'..\n"
     ]
    }
   ],
   "source": [
    "# convert all midi files to wav\n",
    "from midi2audio import FluidSynth\n",
    "\n",
    "for index, row in df.iterrows():\n",
    "    print('Converting file: ' + row['midi_filename'])\n",
    "    FluidSynth().midi_to_audio(DATA_FOLDER + '/' + row['midi_filename'], f'convertedAudio/{index}.wav')"
   ]
  }
 ],
 "metadata": {
  "kernelspec": {
   "display_name": ".venv",
   "language": "python",
   "name": "python3"
  },
  "language_info": {
   "codemirror_mode": {
    "name": "ipython",
    "version": 3
   },
   "file_extension": ".py",
   "mimetype": "text/x-python",
   "name": "python",
   "nbconvert_exporter": "python",
   "pygments_lexer": "ipython3",
   "version": "3.11.7"
  }
 },
 "nbformat": 4,
 "nbformat_minor": 2
}
